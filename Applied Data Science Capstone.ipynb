{
 "cells": [
  {
   "cell_type": "markdown",
   "metadata": {},
   "source": [
    "# The realization of a dream: open a Sushi Bar in Bologna"
   ]
  },
  {
   "attachments": {
    "bologna.jpeg": {
     "image/jpeg": "[encoded data removed]"
    }
   },
   "cell_type": "markdown",
   "metadata": {},
   "source": [
    "![bologna.jpeg](attachment:bologna.jpeg)"
   ]
  },
  {
   "cell_type": "markdown",
   "metadata": {},
   "source": [
    "## Table of contents\n",
    "* [Introduction: Business Problem](#introduction)\n",
    "* [Data](#data)\n",
    "* [Methodology](#methodology)\n",
    "* [Analysis](#analysis)\n",
    "* [Results and Discussion](#results)\n",
    "* [Conclusion](#conclusion)"
   ]
  },
  {
   "cell_type": "markdown",
   "metadata": {},
   "source": [
    "## Introduction/Business Problem <a name=\"introduction\"></a>"
   ]
  },
  {
   "cell_type": "markdown",
   "metadata": {},
   "source": [
    "An old aunt left a nice nest egg to the undersigned: 3 million euros. I can finally realize my dream: to open a trendy restaurant in one of the most beautiful Italian cities.\n",
    "I have always worked in the world of catering and I am doing well in the kitchen. To follow my dreams I went to Japan and spent 5 wonderful years learning the secrets of Sushi. Also I love being among young people. So my dream is to open a Sushi Bar in a university city where there are many young people. The choice falls on Bologna, a city full of young people with a historical university. The opening price may be lower than in other cities. There would be competition in any case because Bologna is full of clubs. There are not as many foreign tourists as in Rome or Milan, so opening in Bologna would have this penalty. But the city is sensitive to news and this is a plus.<br/>\n",
    "Since I am convinced of my skills and the fact that my Sushi bar can offer something better than the competition, I will try to rent the place where there is a greater concentration of restaurants and possibly Sushi Bars.\n",
    "Obviously I will try to stay as close as possible to the center, compatibly with the cost of the rent. <br/>\n",
    "I will try to identify areas with the biggest concentation of young people. <br/>\n",
    "\n",
    "This study will help anyone who wants to start a restaurant business in a young and dynamic city like Bologna\n",
    "The business plan that will be illustrated has a general value: anyone who wants to open a restaurant somewhere will find the illustrated methodology and the examples provided useful. The considerations made can be applied to any city and to any type of restaurant / pub / caffee shop etc etc."
   ]
  },
  {
   "cell_type": "markdown",
   "metadata": {},
   "source": [
    "## Data <a name=\"data\"></a>"
   ]
  },
  {
   "cell_type": "markdown",
   "metadata": {},
   "source": [
    "The following data sources will be needed to extract/generate the required information:\n",
    "* A Pandas dataframe will be provided with some data about the main Bologna's neighborhoods (name, density of inhabitants, distance from the University, cost of rent)\n",
    "* The dataframe will be enriched by the centers of candidate areas that will be generated algorithmically and approximate addresses of centers of those areas will be obtained using Google Maps API reverse geocoding.\n",
    "* Number of restaurants and their type and location in every neighborhood will be obtained using Foursquare API. Through a Bubble Chart it will be possible to identify the areas with the highest concentration of restaurants.\n",
    "* The list of Sushi Bars in the Bologna neighbourhoods and their location with respect to the city center will retrieved using Foursquare API.\n",
    "* For each Sushi Bar I will analyze the number of clicks received and the comments. From these data I will be able to understand the age of the clientele in relation the position of the restaurant itself.\n",
    "\n",
    "The area where the Sushi Bar will be opened will be chosen according to the following criteria:\n",
    "    - density of restaurants\n",
    "    - density of competitor Sushi bars\n",
    "    - distance from the University\n",
    "    - density of young population\n"
   ]
  },
  {
   "cell_type": "markdown",
   "metadata": {},
   "source": [
    "# Bologna's neighborhoods"
   ]
  },
  {
   "cell_type": "markdown",
   "metadata": {},
   "source": [
    "Let's retrieve the Bologna's neighborhoods data. Wea regoing to use the 'pd.read_html'. It returns a list of objects containing the info grabbed from the html page.In this  case the Dataframe we are looking for is contained in the first object of the list."
   ]
  },
  {
   "cell_type": "code",
   "execution_count": 1,
   "metadata": {},
   "outputs": [
    {
     "name": "stdout",
     "output_type": "stream",
     "text": [
      "Collecting package metadata (current_repodata.json): done\n",
      "Solving environment: done\n",
      "\n",
      "# All requested packages already installed.\n",
      "\n",
      "Libraries imported.\n"
     ]
    }
   ],
   "source": [
    "import pandas as pd\n",
    "import numpy as np\n",
    "\n",
    "!conda install -c conda-forge geopy --yes # uncomment this line if you haven't completed the Foursquare API lab\n",
    "from geopy.geocoders import Nominatim # convert an address into latitude and longitude values\n",
    "\n",
    "import requests # library to handle requests\n",
    "from pandas.io.json import json_normalize # tranform JSON file into a pandas dataframe\n",
    "\n",
    "# Matplotlib and associated plotting modules\n",
    "import matplotlib.cm as cm\n",
    "import matplotlib.colors as colors\n",
    "\n",
    "# import k-means from clustering stage\n",
    "from sklearn.cluster import KMeans\n",
    "\n",
    "#!conda install -c conda-forge folium=0.5.0 --yes # uncomment this line if you haven't completed the Foursquare API lab\n",
    "import folium # map rendering library\n",
    "\n",
    "print('Libraries imported.')"
   ]
  },
  {
   "cell_type": "code",
   "execution_count": 2,
   "metadata": {},
   "outputs": [
    {
     "data": {
      "text/html": [
       "<div>\n",
       "<style scoped>\n",
       "    .dataframe tbody tr th:only-of-type {\n",
       "        vertical-align: middle;\n",
       "    }\n",
       "\n",
       "    .dataframe tbody tr th {\n",
       "        vertical-align: top;\n",
       "    }\n",
       "\n",
       "    .dataframe thead th {\n",
       "        text-align: right;\n",
       "    }\n",
       "</style>\n",
       "<table border=\"1\" class=\"dataframe\">\n",
       "  <thead>\n",
       "    <tr style=\"text-align: right;\">\n",
       "      <th></th>\n",
       "      <th>Quartiere</th>\n",
       "      <th>Superficie (km²)</th>\n",
       "      <th>Abitanti[2]</th>\n",
       "      <th>Densità (ab/km²)</th>\n",
       "      <th>Suddivisioni</th>\n",
       "      <th>Presidente</th>\n",
       "    </tr>\n",
       "  </thead>\n",
       "  <tbody>\n",
       "    <tr>\n",
       "      <th>0</th>\n",
       "      <td>Borgo Panigale-Reno</td>\n",
       "      <td>31436</td>\n",
       "      <td>61.141</td>\n",
       "      <td>194494.00000</td>\n",
       "      <td>Borgo Panigale, Casteldebole, La Birra, Barca,...</td>\n",
       "      <td>Vincenzo Naldi [3] (Partito Democratico)</td>\n",
       "    </tr>\n",
       "    <tr>\n",
       "      <th>1</th>\n",
       "      <td>San Donato-San Vitale</td>\n",
       "      <td>26268</td>\n",
       "      <td>66.297</td>\n",
       "      <td>2.52387</td>\n",
       "      <td>San Donato, San Vitale, San Donnino, Pilastro,...</td>\n",
       "      <td>Simone Borsari [4] (centrosinistra)</td>\n",
       "    </tr>\n",
       "    <tr>\n",
       "      <th>2</th>\n",
       "      <td>Navile</td>\n",
       "      <td>25875</td>\n",
       "      <td>69.187</td>\n",
       "      <td>2.67389</td>\n",
       "      <td>Lame, Corticella, Bolognina</td>\n",
       "      <td>Daniele Ara [4](centrosinistra)</td>\n",
       "    </tr>\n",
       "    <tr>\n",
       "      <th>3</th>\n",
       "      <td>Porto-Saragozza</td>\n",
       "      <td>15766</td>\n",
       "      <td>69.477</td>\n",
       "      <td>4.40676</td>\n",
       "      <td>Andrea Costa-Saragozza, Malpighi, Marconi, Saf...</td>\n",
       "      <td>Lorenzo Cipriani (centrosinistra)</td>\n",
       "    </tr>\n",
       "    <tr>\n",
       "      <th>4</th>\n",
       "      <td>Santo Stefano</td>\n",
       "      <td>30040</td>\n",
       "      <td>64.258</td>\n",
       "      <td>2.13908</td>\n",
       "      <td>Galvani, Irnerio, Murri, Colli, Roncrio, Barbi...</td>\n",
       "      <td>Rosa Maria Amorevole [5] (centrosinistra)</td>\n",
       "    </tr>\n",
       "  </tbody>\n",
       "</table>\n",
       "</div>"
      ],
      "text/plain": [
       "               Quartiere  Superficie (km²)  Abitanti[2]  Densità (ab/km²)  \\\n",
       "0    Borgo Panigale-Reno             31436       61.141      194494.00000   \n",
       "1  San Donato-San Vitale             26268       66.297           2.52387   \n",
       "2                 Navile             25875       69.187           2.67389   \n",
       "3        Porto-Saragozza             15766       69.477           4.40676   \n",
       "4          Santo Stefano             30040       64.258           2.13908   \n",
       "\n",
       "                                        Suddivisioni  \\\n",
       "0  Borgo Panigale, Casteldebole, La Birra, Barca,...   \n",
       "1  San Donato, San Vitale, San Donnino, Pilastro,...   \n",
       "2                        Lame, Corticella, Bolognina   \n",
       "3  Andrea Costa-Saragozza, Malpighi, Marconi, Saf...   \n",
       "4  Galvani, Irnerio, Murri, Colli, Roncrio, Barbi...   \n",
       "\n",
       "                                  Presidente  \n",
       "0   Vincenzo Naldi [3] (Partito Democratico)  \n",
       "1        Simone Borsari [4] (centrosinistra)  \n",
       "2            Daniele Ara [4](centrosinistra)  \n",
       "3          Lorenzo Cipriani (centrosinistra)  \n",
       "4  Rosa Maria Amorevole [5] (centrosinistra)  "
      ]
     },
     "execution_count": 2,
     "metadata": {},
     "output_type": "execute_result"
    }
   ],
   "source": [
    "url_html='https://it.wikipedia.org/wiki/Quartieri_di_Bologna'\n",
    "bologna_obj = pd.read_html(url_html)\n",
    "bologna_df = bologna_obj[0]\n",
    "bologna_df.head()"
   ]
  },
  {
   "cell_type": "markdown",
   "metadata": {},
   "source": [
    "Some tuning is required on the dataframe. Let's start dropping unuseful columns."
   ]
  },
  {
   "cell_type": "code",
   "execution_count": 3,
   "metadata": {},
   "outputs": [],
   "source": [
    "bologna_df = bologna_df.drop(['Presidente'], axis=1)"
   ]
  },
  {
   "cell_type": "markdown",
   "metadata": {},
   "source": [
    "Now let's rename the column's name from italian to english"
   ]
  },
  {
   "cell_type": "code",
   "execution_count": 4,
   "metadata": {},
   "outputs": [
    {
     "name": "stdout",
     "output_type": "stream",
     "text": [
      "Index(['Quartiere', 'Superficie (km²)', 'Abitanti[2]', 'Densità (ab/km²)',\n",
      "       'Suddivisioni'],\n",
      "      dtype='object')\n"
     ]
    },
    {
     "data": {
      "text/html": [
       "<div>\n",
       "<style scoped>\n",
       "    .dataframe tbody tr th:only-of-type {\n",
       "        vertical-align: middle;\n",
       "    }\n",
       "\n",
       "    .dataframe tbody tr th {\n",
       "        vertical-align: top;\n",
       "    }\n",
       "\n",
       "    .dataframe thead th {\n",
       "        text-align: right;\n",
       "    }\n",
       "</style>\n",
       "<table border=\"1\" class=\"dataframe\">\n",
       "  <thead>\n",
       "    <tr style=\"text-align: right;\">\n",
       "      <th></th>\n",
       "      <th>neighborhood</th>\n",
       "      <th>area</th>\n",
       "      <th>inhabitants</th>\n",
       "      <th>density</th>\n",
       "      <th>sub district</th>\n",
       "    </tr>\n",
       "  </thead>\n",
       "  <tbody>\n",
       "    <tr>\n",
       "      <th>0</th>\n",
       "      <td>Borgo Panigale-Reno</td>\n",
       "      <td>31436</td>\n",
       "      <td>61.141</td>\n",
       "      <td>194494.00000</td>\n",
       "      <td>Borgo Panigale, Casteldebole, La Birra, Barca,...</td>\n",
       "    </tr>\n",
       "    <tr>\n",
       "      <th>1</th>\n",
       "      <td>San Donato-San Vitale</td>\n",
       "      <td>26268</td>\n",
       "      <td>66.297</td>\n",
       "      <td>2.52387</td>\n",
       "      <td>San Donato, San Vitale, San Donnino, Pilastro,...</td>\n",
       "    </tr>\n",
       "    <tr>\n",
       "      <th>2</th>\n",
       "      <td>Navile</td>\n",
       "      <td>25875</td>\n",
       "      <td>69.187</td>\n",
       "      <td>2.67389</td>\n",
       "      <td>Lame, Corticella, Bolognina</td>\n",
       "    </tr>\n",
       "    <tr>\n",
       "      <th>3</th>\n",
       "      <td>Porto-Saragozza</td>\n",
       "      <td>15766</td>\n",
       "      <td>69.477</td>\n",
       "      <td>4.40676</td>\n",
       "      <td>Andrea Costa-Saragozza, Malpighi, Marconi, Saf...</td>\n",
       "    </tr>\n",
       "    <tr>\n",
       "      <th>4</th>\n",
       "      <td>Santo Stefano</td>\n",
       "      <td>30040</td>\n",
       "      <td>64.258</td>\n",
       "      <td>2.13908</td>\n",
       "      <td>Galvani, Irnerio, Murri, Colli, Roncrio, Barbi...</td>\n",
       "    </tr>\n",
       "  </tbody>\n",
       "</table>\n",
       "</div>"
      ],
      "text/plain": [
       "            neighborhood   area  inhabitants       density  \\\n",
       "0    Borgo Panigale-Reno  31436       61.141  194494.00000   \n",
       "1  San Donato-San Vitale  26268       66.297       2.52387   \n",
       "2                 Navile  25875       69.187       2.67389   \n",
       "3        Porto-Saragozza  15766       69.477       4.40676   \n",
       "4          Santo Stefano  30040       64.258       2.13908   \n",
       "\n",
       "                                        sub district  \n",
       "0  Borgo Panigale, Casteldebole, La Birra, Barca,...  \n",
       "1  San Donato, San Vitale, San Donnino, Pilastro,...  \n",
       "2                        Lame, Corticella, Bolognina  \n",
       "3  Andrea Costa-Saragozza, Malpighi, Marconi, Saf...  \n",
       "4  Galvani, Irnerio, Murri, Colli, Roncrio, Barbi...  "
      ]
     },
     "execution_count": 4,
     "metadata": {},
     "output_type": "execute_result"
    }
   ],
   "source": [
    "print(bologna_df.columns)\n",
    "bologna_df.columns = ['neighborhood', 'area', 'inhabitants', 'density', 'sub district']\n",
    "bologna_df.head()"
   ]
  },
  {
   "cell_type": "markdown",
   "metadata": {},
   "source": [
    "Some more format changes on the numerical data ..."
   ]
  },
  {
   "cell_type": "code",
   "execution_count": 54,
   "metadata": {},
   "outputs": [
    {
     "data": {
      "text/html": [
       "<div>\n",
       "<style scoped>\n",
       "    .dataframe tbody tr th:only-of-type {\n",
       "        vertical-align: middle;\n",
       "    }\n",
       "\n",
       "    .dataframe tbody tr th {\n",
       "        vertical-align: top;\n",
       "    }\n",
       "\n",
       "    .dataframe thead th {\n",
       "        text-align: right;\n",
       "    }\n",
       "</style>\n",
       "<table border=\"1\" class=\"dataframe\">\n",
       "  <thead>\n",
       "    <tr style=\"text-align: right;\">\n",
       "      <th></th>\n",
       "      <th>neighborhood</th>\n",
       "      <th>area</th>\n",
       "      <th>inhabitants</th>\n",
       "      <th>density</th>\n",
       "      <th>sub district</th>\n",
       "    </tr>\n",
       "  </thead>\n",
       "  <tbody>\n",
       "    <tr>\n",
       "      <th>0</th>\n",
       "      <td>Borgo Panigale-Reno</td>\n",
       "      <td>31.436</td>\n",
       "      <td>61141.0</td>\n",
       "      <td>1944.935742</td>\n",
       "      <td>Borgo Panigale, Casteldebole, La Birra, Barca,...</td>\n",
       "    </tr>\n",
       "    <tr>\n",
       "      <th>1</th>\n",
       "      <td>San Donato-San Vitale</td>\n",
       "      <td>26.268</td>\n",
       "      <td>66297.0</td>\n",
       "      <td>2523.869347</td>\n",
       "      <td>San Donato, San Vitale, San Donnino, Pilastro,...</td>\n",
       "    </tr>\n",
       "    <tr>\n",
       "      <th>2</th>\n",
       "      <td>Navile</td>\n",
       "      <td>25.875</td>\n",
       "      <td>69187.0</td>\n",
       "      <td>2673.893720</td>\n",
       "      <td>Lame, Corticella, Bolognina</td>\n",
       "    </tr>\n",
       "    <tr>\n",
       "      <th>3</th>\n",
       "      <td>Porto-Saragozza</td>\n",
       "      <td>15.766</td>\n",
       "      <td>69477.0</td>\n",
       "      <td>4406.761385</td>\n",
       "      <td>Andrea Costa-Saragozza, Malpighi, Marconi, Saf...</td>\n",
       "    </tr>\n",
       "    <tr>\n",
       "      <th>4</th>\n",
       "      <td>Santo Stefano</td>\n",
       "      <td>30.040</td>\n",
       "      <td>64258.0</td>\n",
       "      <td>2139.081225</td>\n",
       "      <td>Galvani, Irnerio, Murri, Colli, Roncrio, Barbi...</td>\n",
       "    </tr>\n",
       "    <tr>\n",
       "      <th>5</th>\n",
       "      <td>Savena</td>\n",
       "      <td>11.469</td>\n",
       "      <td>59810.0</td>\n",
       "      <td>5214.927195</td>\n",
       "      <td>Mazzini, San Ruffillo, Fossolo, Pontevecchio, ...</td>\n",
       "    </tr>\n",
       "  </tbody>\n",
       "</table>\n",
       "</div>"
      ],
      "text/plain": [
       "            neighborhood    area  inhabitants      density  \\\n",
       "0    Borgo Panigale-Reno  31.436      61141.0  1944.935742   \n",
       "1  San Donato-San Vitale  26.268      66297.0  2523.869347   \n",
       "2                 Navile  25.875      69187.0  2673.893720   \n",
       "3        Porto-Saragozza  15.766      69477.0  4406.761385   \n",
       "4          Santo Stefano  30.040      64258.0  2139.081225   \n",
       "5                 Savena  11.469      59810.0  5214.927195   \n",
       "\n",
       "                                        sub district  \n",
       "0  Borgo Panigale, Casteldebole, La Birra, Barca,...  \n",
       "1  San Donato, San Vitale, San Donnino, Pilastro,...  \n",
       "2                        Lame, Corticella, Bolognina  \n",
       "3  Andrea Costa-Saragozza, Malpighi, Marconi, Saf...  \n",
       "4  Galvani, Irnerio, Murri, Colli, Roncrio, Barbi...  \n",
       "5  Mazzini, San Ruffillo, Fossolo, Pontevecchio, ...  "
      ]
     },
     "execution_count": 54,
     "metadata": {},
     "output_type": "execute_result"
    }
   ],
   "source": [
    "bologna_df['area'] = bologna_df['area']/1000\n",
    "bologna_df['inhabitants'] = bologna_df['inhabitants'] * 1000\n",
    "bologna_df['density'] = bologna_df['inhabitants']/bologna_df['area']\n",
    "bologna_df.head(10)"
   ]
  },
  {
   "cell_type": "code",
   "execution_count": 55,
   "metadata": {},
   "outputs": [
    {
     "data": {
      "text/html": [
       "<div>\n",
       "<style scoped>\n",
       "    .dataframe tbody tr th:only-of-type {\n",
       "        vertical-align: middle;\n",
       "    }\n",
       "\n",
       "    .dataframe tbody tr th {\n",
       "        vertical-align: top;\n",
       "    }\n",
       "\n",
       "    .dataframe thead th {\n",
       "        text-align: right;\n",
       "    }\n",
       "</style>\n",
       "<table border=\"1\" class=\"dataframe\">\n",
       "  <thead>\n",
       "    <tr style=\"text-align: right;\">\n",
       "      <th></th>\n",
       "      <th>area</th>\n",
       "      <th>inhabitants</th>\n",
       "      <th>density</th>\n",
       "    </tr>\n",
       "  </thead>\n",
       "  <tbody>\n",
       "    <tr>\n",
       "      <th>count</th>\n",
       "      <td>6.000000</td>\n",
       "      <td>6.000000</td>\n",
       "      <td>6.000000</td>\n",
       "    </tr>\n",
       "    <tr>\n",
       "      <th>mean</th>\n",
       "      <td>23.475667</td>\n",
       "      <td>65028.333333</td>\n",
       "      <td>3150.578102</td>\n",
       "    </tr>\n",
       "    <tr>\n",
       "      <th>std</th>\n",
       "      <td>8.045002</td>\n",
       "      <td>4040.555292</td>\n",
       "      <td>1336.878821</td>\n",
       "    </tr>\n",
       "    <tr>\n",
       "      <th>min</th>\n",
       "      <td>11.469000</td>\n",
       "      <td>59810.000000</td>\n",
       "      <td>1944.935742</td>\n",
       "    </tr>\n",
       "    <tr>\n",
       "      <th>25%</th>\n",
       "      <td>18.293250</td>\n",
       "      <td>61920.250000</td>\n",
       "      <td>2235.278255</td>\n",
       "    </tr>\n",
       "    <tr>\n",
       "      <th>50%</th>\n",
       "      <td>26.071500</td>\n",
       "      <td>65277.500000</td>\n",
       "      <td>2598.881533</td>\n",
       "    </tr>\n",
       "    <tr>\n",
       "      <th>75%</th>\n",
       "      <td>29.097000</td>\n",
       "      <td>68464.500000</td>\n",
       "      <td>3973.544469</td>\n",
       "    </tr>\n",
       "    <tr>\n",
       "      <th>max</th>\n",
       "      <td>31.436000</td>\n",
       "      <td>69477.000000</td>\n",
       "      <td>5214.927195</td>\n",
       "    </tr>\n",
       "  </tbody>\n",
       "</table>\n",
       "</div>"
      ],
      "text/plain": [
       "            area   inhabitants      density\n",
       "count   6.000000      6.000000     6.000000\n",
       "mean   23.475667  65028.333333  3150.578102\n",
       "std     8.045002   4040.555292  1336.878821\n",
       "min    11.469000  59810.000000  1944.935742\n",
       "25%    18.293250  61920.250000  2235.278255\n",
       "50%    26.071500  65277.500000  2598.881533\n",
       "75%    29.097000  68464.500000  3973.544469\n",
       "max    31.436000  69477.000000  5214.927195"
      ]
     },
     "execution_count": 55,
     "metadata": {},
     "output_type": "execute_result"
    }
   ],
   "source": [
    "bologna_df.describe()"
   ]
  },
  {
   "cell_type": "markdown",
   "metadata": {},
   "source": [
    "Let's try to have a graphical representation of the density."
   ]
  },
  {
   "cell_type": "code",
   "execution_count": 42,
   "metadata": {},
   "outputs": [],
   "source": [
    "%matplotlib inline\n",
    "\n",
    "import matplotlib as mpl\n",
    "import matplotlib.pyplot as plt"
   ]
  },
  {
   "cell_type": "code",
   "execution_count": 47,
   "metadata": {},
   "outputs": [
    {
     "data": {
      "image/png": "[encoded data removed]",
      "text/plain": [
       "<Figure size 1080x432 with 1 Axes>"
      ]
     },
     "metadata": {},
     "output_type": "display_data"
    }
   ],
   "source": [
    "colors_list = ['gold', 'yellowgreen', 'lightcoral', 'lightskyblue', 'lightgreen', 'pink']\n",
    "explode_list = [0.1, 0, 0, 0, 0.1, 0.1] # ratio for each continent with which to offset each wedge.\n",
    "bologna_df['density'].plot(kind='pie',\n",
    "                            figsize=(15, 6),\n",
    "                            autopct='%1.1f%%', \n",
    "                            startangle=90,    \n",
    "                            shadow=True,       \n",
    "                            labels=None,         # turn off labels on pie chart\n",
    "                            pctdistance=1.12,    # the ratio between the center of each pie slice and the start of the text generated by autopct \n",
    "                            colors=colors_list,  # add custom colors\n",
    "                            explode=explode_list # 'explode' lowest 3 continents\n",
    "                            )\n",
    "\n",
    "# scale the title up by 12% to match pctdistance\n",
    "plt.title('population density of the bologna neighborhoods', y=1.12) \n",
    "\n",
    "plt.axis('equal') \n",
    "\n",
    "# add legend\n",
    "plt.legend(labels=bologna_df['neighborhood'], loc='upper left') \n",
    "\n",
    "plt.show()"
   ]
  },
  {
   "cell_type": "markdown",
   "metadata": {},
   "source": [
    "From this first analysis we realize that there are a couple of neighborhoods more crowded than the other. They are 'Savena' and 'Porto Saragozza'. So we can guess that those neighboorhood are in the downtown. We have to keep in mind this information in the future.<br/>\n",
    "Let's try to retrieve the latitude and longitude of every neighborhood. This data will be added to the current dataframe."
   ]
  },
  {
   "cell_type": "code",
   "execution_count": 75,
   "metadata": {},
   "outputs": [
    {
     "data": {
      "text/html": [
       "<div>\n",
       "<style scoped>\n",
       "    .dataframe tbody tr th:only-of-type {\n",
       "        vertical-align: middle;\n",
       "    }\n",
       "\n",
       "    .dataframe tbody tr th {\n",
       "        vertical-align: top;\n",
       "    }\n",
       "\n",
       "    .dataframe thead th {\n",
       "        text-align: right;\n",
       "    }\n",
       "</style>\n",
       "<table border=\"1\" class=\"dataframe\">\n",
       "  <thead>\n",
       "    <tr style=\"text-align: right;\">\n",
       "      <th></th>\n",
       "      <th>neighborhood</th>\n",
       "      <th>area</th>\n",
       "      <th>inhabitants</th>\n",
       "      <th>density</th>\n",
       "      <th>sub district</th>\n",
       "      <th>latitude</th>\n",
       "      <th>longitude</th>\n",
       "    </tr>\n",
       "  </thead>\n",
       "  <tbody>\n",
       "    <tr>\n",
       "      <th>0</th>\n",
       "      <td>Borgo Panigale-Reno</td>\n",
       "      <td>31.436</td>\n",
       "      <td>61141.0</td>\n",
       "      <td>1944.935742</td>\n",
       "      <td>Borgo Panigale, Casteldebole, La Birra, Barca,...</td>\n",
       "      <td>44.521942</td>\n",
       "      <td>11.271077</td>\n",
       "    </tr>\n",
       "    <tr>\n",
       "      <th>1</th>\n",
       "      <td>San Donato-San Vitale</td>\n",
       "      <td>26.268</td>\n",
       "      <td>66297.0</td>\n",
       "      <td>2523.869347</td>\n",
       "      <td>San Donato, San Vitale, San Donnino, Pilastro,...</td>\n",
       "      <td>44.511899</td>\n",
       "      <td>11.395177</td>\n",
       "    </tr>\n",
       "    <tr>\n",
       "      <th>2</th>\n",
       "      <td>Navile</td>\n",
       "      <td>25.875</td>\n",
       "      <td>69187.0</td>\n",
       "      <td>2673.893720</td>\n",
       "      <td>Lame, Corticella, Bolognina</td>\n",
       "      <td>44.518470</td>\n",
       "      <td>11.328901</td>\n",
       "    </tr>\n",
       "    <tr>\n",
       "      <th>3</th>\n",
       "      <td>Porto-Saragozza</td>\n",
       "      <td>15.766</td>\n",
       "      <td>69477.0</td>\n",
       "      <td>4406.761385</td>\n",
       "      <td>Andrea Costa-Saragozza, Malpighi, Marconi, Saf...</td>\n",
       "      <td>44.477876</td>\n",
       "      <td>11.304899</td>\n",
       "    </tr>\n",
       "    <tr>\n",
       "      <th>4</th>\n",
       "      <td>Santo Stefano</td>\n",
       "      <td>30.040</td>\n",
       "      <td>64258.0</td>\n",
       "      <td>2139.081225</td>\n",
       "      <td>Galvani, Irnerio, Murri, Colli, Roncrio, Barbi...</td>\n",
       "      <td>44.492055</td>\n",
       "      <td>11.349035</td>\n",
       "    </tr>\n",
       "  </tbody>\n",
       "</table>\n",
       "</div>"
      ],
      "text/plain": [
       "            neighborhood    area  inhabitants      density  \\\n",
       "0    Borgo Panigale-Reno  31.436      61141.0  1944.935742   \n",
       "1  San Donato-San Vitale  26.268      66297.0  2523.869347   \n",
       "2                 Navile  25.875      69187.0  2673.893720   \n",
       "3        Porto-Saragozza  15.766      69477.0  4406.761385   \n",
       "4          Santo Stefano  30.040      64258.0  2139.081225   \n",
       "\n",
       "                                        sub district   latitude  longitude  \n",
       "0  Borgo Panigale, Casteldebole, La Birra, Barca,...  44.521942  11.271077  \n",
       "1  San Donato, San Vitale, San Donnino, Pilastro,...  44.511899  11.395177  \n",
       "2                        Lame, Corticella, Bolognina  44.518470  11.328901  \n",
       "3  Andrea Costa-Saragozza, Malpighi, Marconi, Saf...  44.477876  11.304899  \n",
       "4  Galvani, Irnerio, Murri, Colli, Roncrio, Barbi...  44.492055  11.349035  "
      ]
     },
     "execution_count": 75,
     "metadata": {},
     "output_type": "execute_result"
    }
   ],
   "source": [
    "geolocator = Nominatim(user_agent=\"bo_explorer\")\n",
    "longitude = []\n",
    "latitude = []\n",
    "for neigh in bologna_df['neighborhood']:\n",
    "    address = neigh + ', Bologna, Italy'\n",
    "    location = geolocator.geocode(address)\n",
    "    latitude.append(location.latitude)\n",
    "    longitude.append(location.longitude)\n",
    "    #print('The geograpical coordinate of {} are {}, {}.'.format(neigh, location.latitude, location.longitude))\n",
    "#print(latitude)\n",
    "#print(longitude)\n",
    "bologna_df['latitude'] = latitude\n",
    "bologna_df['longitude'] = longitude\n",
    "bologna_df.head()"
   ]
  },
  {
   "cell_type": "markdown",
   "metadata": {},
   "source": [
    "Save the dataframe as a csv file."
   ]
  },
  {
   "cell_type": "code",
   "execution_count": 76,
   "metadata": {},
   "outputs": [],
   "source": [
    "bologna_df.to_csv(r'bologna-neigh.csv', index=False)"
   ]
  },
  {
   "cell_type": "markdown",
   "metadata": {},
   "source": [
    "Here we go. The Pandas Dataframe has been cleaned and now we can move further and add some more interesting informations to it."
   ]
  },
  {
   "cell_type": "markdown",
   "metadata": {},
   "source": [
    "## Define Foursquare Credentials and Version"
   ]
  },
  {
   "cell_type": "code",
   "execution_count": 63,
   "metadata": {},
   "outputs": [
    {
     "name": "stdout",
     "output_type": "stream",
     "text": [
      "My credentails:\n",
      "CLIENT_ID: WWBTWNSZFP50UEEBGV00MGOCHXEY1ORQWQLRNO0KLYZURLQI\n",
      "CLIENT_SECRET:NFQAIQUXJ0UYTEMS3USDDMQRCFJITUFG3N2KBPC43D3UTHBL\n"
     ]
    }
   ],
   "source": [
    "CLIENT_ID = 'WWBTWNSZFP50UEEBGV00MGOCHXEY1ORQWQLRNO0KLYZURLQI' # your Foursquare ID\n",
    "CLIENT_SECRET = 'NFQAIQUXJ0UYTEMS3USDDMQRCFJITUFG3N2KBPC43D3UTHBL' # your Foursquare Secret\n",
    "VERSION = '20180604'\n",
    "LIMIT = 30\n",
    "print('My credentails:')\n",
    "print('CLIENT_ID: ' + CLIENT_ID)\n",
    "print('CLIENT_SECRET:' + CLIENT_SECRET)"
   ]
  },
  {
   "cell_type": "markdown",
   "metadata": {},
   "source": [
    "Create a map of Bologna with neighborhoods superimposed on top"
   ]
  },
  {
   "cell_type": "code",
   "execution_count": 79,
   "metadata": {},
   "outputs": [
    {
     "name": "stdout",
     "output_type": "stream",
     "text": [
      "The geograpical coordinate of Bologna are 44.4936714, 11.3430347.\n"
     ]
    }
   ],
   "source": [
    "bologna_address = 'Bologna, Italy'\n",
    "location = geolocator.geocode(bologna_address)\n",
    "bo_latitude = location.latitude\n",
    "bo_longitude = location.longitude\n",
    "print('The geograpical coordinate of Bologna are {}, {}.'.format(bo_latitude, bo_longitude))"
   ]
  },
  {
   "cell_type": "code",
   "execution_count": 84,
   "metadata": {},
   "outputs": [
    {
     "name": "stdout",
     "output_type": "stream",
     "text": [
      "The geograpical coordinate of Bologna University are 44.4971104, 11.352995.\n"
     ]
    }
   ],
   "source": [
    "university_address = 'Via Zamboni 33, Bologna, Italy'\n",
    "location = geolocator.geocode(university_address)\n",
    "university_latitude = location.latitude\n",
    "university_longitude = location.longitude\n",
    "print('The geograpical coordinate of Bologna University are {}, {}.'.format(university_latitude, university_longitude))"
   ]
  },
  {
   "cell_type": "code",
   "execution_count": 85,
   "metadata": {},
   "outputs": [
    {
     "data": {
      "text/html": [
       "<div style=\"width:100%;\"><div style=\"position:relative;width:100%;height:0;padding-bottom:60%;\"><iframe src=\"about:blank\" style=\"position:absolute;width:100%;height:100%;left:0;top:0;border:none !important;\" data-html=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 onload=\"this.contentDocument.open();this.contentDocument.write(atob(this.getAttribute('data-html')));this.contentDocument.close();\" allowfullscreen webkitallowfullscreen mozallowfullscreen></iframe></div></div>"
      ],
      "text/plain": [
       "<folium.folium.Map at 0x7f24e7081f10>"
      ]
     },
     "execution_count": 85,
     "metadata": {},
     "output_type": "execute_result"
    }
   ],
   "source": [
    "# create map of New York using latitude and longitude values\n",
    "map_bologna = folium.Map(location=[bo_latitude, bo_longitude], zoom_start=10)\n",
    "\n",
    "# add markers to map\n",
    "for lat, lng, neighborhood in zip(bologna_df['latitude'], bologna_df['longitude'], bologna_df['neighborhood']):\n",
    "    label = '{}'.format(neighborhood)\n",
    "    label = folium.Popup(label, parse_html=True)\n",
    "    folium.CircleMarker(\n",
    "        [lat, lng],\n",
    "        radius=5,\n",
    "        popup=label,\n",
    "        color='blue',\n",
    "        fill=True,\n",
    "        fill_color='#3186cc',\n",
    "        fill_opacity=0.7,\n",
    "        parse_html=False).add_to(map_bologna)  \n",
    "    \n",
    "map_bologna"
   ]
  },
  {
   "cell_type": "code",
   "execution_count": null,
   "metadata": {},
   "outputs": [],
   "source": []
  }
 ],
 "metadata": {
  "kernelspec": {
   "display_name": "Python 3",
   "language": "python",
   "name": "python3"
  },
  "language_info": {
   "codemirror_mode": {
    "name": "ipython",
    "version": 3
   },
   "file_extension": ".py",
   "mimetype": "text/x-python",
   "name": "python",
   "nbconvert_exporter": "python",
   "pygments_lexer": "ipython3",
   "version": "3.7.6"
  }
 },
 "nbformat": 4,
 "nbformat_minor": 4
}
