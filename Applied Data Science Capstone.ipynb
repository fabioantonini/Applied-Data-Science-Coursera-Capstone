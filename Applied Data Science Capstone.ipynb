{
 "cells": [
  {
   "cell_type": "markdown",
   "metadata": {},
   "source": [
    "# The realization of a dream: to open a Sushi Bar in Bologna"
   ]
  },
  {
   "cell_type": "markdown",
   "metadata": {},
   "source": [
    "## Table of contents\n",
    "* [Introduction: Business Problem](#introduction)\n",
    "* [Data](#data)\n",
    "* [Methodology](#methodology)\n",
    "* [Analysis](#analysis)\n",
    "* [Results and Discussion](#results)\n",
    "* [Conclusion](#conclusion)"
   ]
  },
  {
   "cell_type": "markdown",
   "metadata": {},
   "source": [
    "## Introduction/Business Problem <a name=\"introduction\"></a>"
   ]
  },
  {
   "cell_type": "markdown",
   "metadata": {},
   "source": [
    "An old aunt left a nice nest egg to the undersigned: 3 million euros. I can finally realize my dream: to open a trendy restaurant in one of the most beautiful Italian cities.\n",
    "I have always worked in the world of catering and I am doing well in the kitchen. To follow my dreams I went to Japan and spent 5 wonderful years learning the secrets of Sushi. Also I love being among young people. So my dream is to open a Sushi Bar in a university city where there are many young people. The choice falls on Bologna, a city full of young people with a historical university. The opening price may be lower than in other cities. There would be competition in any case because Bologna is full of clubs. There are not as many foreign tourists as in Rome or Milan, so opening in Bologna would have this penalty. But the city is sensitive to news and this is a plus.<br/>\n",
    "Since I am convinced of my skills and the fact that my Sushi bar can offer something better than the competition, I will try to rent the place where there is a greater concentration of restaurants and possibly Sushi Bars.\n",
    "Obviously I will try to stay as close as possible to the center, compatibly with the cost of the rent. <br/>\n",
    "I will try to identify areas with the biggest concentation of young people. <br/>\n",
    "\n",
    "The business plan that will be illustrated has a general value: anyone who wants to open a restaurant somewhere will find the illustrated methodology and the examples provided useful. The considerations made can be applied to any city and to any type of restaurant / pub / caffee shop etc etc."
   ]
  },
  {
   "cell_type": "markdown",
   "metadata": {},
   "source": [
    "## Data <a name=\"data\"></a>"
   ]
  },
  {
   "cell_type": "markdown",
   "metadata": {},
   "source": [
    "The following data sources will be needed to extract/generate the required information:\n",
    "* Centers of candidate areas will be generated algorithmically and approximate addresses of centers of those areas will be obtained using Google Maps API reverse geocoding.\n",
    "* Number of restaurants and their type and location in every neighborhood will be obtained using Foursquare API.\n",
    "* I will have to find the list of Sushi Bars in the Bologna neighbourhoods, their location with respect to the city center. \n",
    "Through a Bubble Chart it will be possible to identify the areas with the highest concentration of Sushi bar.\n",
    "* For each restaurant I will have to analyze the number of clicks received and the comments. From these data I will be able to understand the age of the clientele in relation to the type of restaurant and the position of the restaurant itself.\n"
   ]
  },
  {
   "cell_type": "code",
   "execution_count": null,
   "metadata": {},
   "outputs": [],
   "source": []
  }
 ],
 "metadata": {
  "kernelspec": {
   "display_name": "Python 3",
   "language": "python",
   "name": "python3"
  },
  "language_info": {
   "codemirror_mode": {
    "name": "ipython",
    "version": 3
   },
   "file_extension": ".py",
   "mimetype": "text/x-python",
   "name": "python",
   "nbconvert_exporter": "python",
   "pygments_lexer": "ipython3",
   "version": "3.7.6"
  }
 },
 "nbformat": 4,
 "nbformat_minor": 4
}
